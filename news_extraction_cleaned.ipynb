{
  "cells": [
    {
      "cell_type": "code",
      "execution_count": null,
      "metadata": {
        "id": "Qr6HFo3k0gSo"
      },
      "outputs": [],
      "source": [
        "\n",
        "import requests\n",
        "from bs4 import BeautifulSoup\n",
        "from textblob import TextBlob\n",
        "from transformers import pipeline\n",
        "import torch\n",
        "from gtts import gTTS\n",
        "import os\n",
        "from keybert import KeyBERT\n",
        "from IPython.display import Audio\n",
        "from googletrans import Translator\n",
        "import json"
      ]
    },
    {
      "cell_type": "code",
      "source": [
        "#!pip install keybert"
      ],
      "metadata": {
        "id": "X6g_HNji2QNh"
      },
      "execution_count": null,
      "outputs": []
    },
    {
      "cell_type": "code",
      "source": [
        "#!pip install gtts"
      ],
      "metadata": {
        "id": "mr-OYu3p62Yy"
      },
      "execution_count": null,
      "outputs": []
    },
    {
      "cell_type": "code",
      "source": [
        "!pip install googletrans==3.1.0a0"
      ],
      "metadata": {
        "colab": {
          "base_uri": "https://localhost:8080/",
          "height": 1000
        },
        "id": "-8ZJqEMPyBT8",
        "outputId": "01d6a829-25aa-4c79-97a9-a1708b60143b"
      },
      "execution_count": null,
      "outputs": [
        {
          "output_type": "stream",
          "name": "stdout",
          "text": [
            "Collecting googletrans==3.1.0a0\n",
            "  Using cached googletrans-3.1.0a0-py3-none-any.whl\n",
            "Collecting httpx==0.13.3 (from googletrans==3.1.0a0)\n",
            "  Using cached httpx-0.13.3-py3-none-any.whl.metadata (25 kB)\n",
            "Requirement already satisfied: certifi in /usr/local/lib/python3.11/dist-packages (from httpx==0.13.3->googletrans==3.1.0a0) (2025.1.31)\n",
            "Collecting hstspreload (from httpx==0.13.3->googletrans==3.1.0a0)\n",
            "  Using cached hstspreload-2025.1.1-py3-none-any.whl.metadata (2.1 kB)\n",
            "Requirement already satisfied: sniffio in /usr/local/lib/python3.11/dist-packages (from httpx==0.13.3->googletrans==3.1.0a0) (1.3.1)\n",
            "Collecting chardet==3.* (from httpx==0.13.3->googletrans==3.1.0a0)\n",
            "  Using cached chardet-3.0.4-py2.py3-none-any.whl.metadata (3.2 kB)\n",
            "Collecting idna==2.* (from httpx==0.13.3->googletrans==3.1.0a0)\n",
            "  Using cached idna-2.10-py2.py3-none-any.whl.metadata (9.1 kB)\n",
            "Collecting rfc3986<2,>=1.3 (from httpx==0.13.3->googletrans==3.1.0a0)\n",
            "  Using cached rfc3986-1.5.0-py2.py3-none-any.whl.metadata (6.5 kB)\n",
            "Collecting httpcore==0.9.* (from httpx==0.13.3->googletrans==3.1.0a0)\n",
            "  Using cached httpcore-0.9.1-py3-none-any.whl.metadata (4.6 kB)\n",
            "Collecting h11<0.10,>=0.8 (from httpcore==0.9.*->httpx==0.13.3->googletrans==3.1.0a0)\n",
            "  Using cached h11-0.9.0-py2.py3-none-any.whl.metadata (8.1 kB)\n",
            "Collecting h2==3.* (from httpcore==0.9.*->httpx==0.13.3->googletrans==3.1.0a0)\n",
            "  Using cached h2-3.2.0-py2.py3-none-any.whl.metadata (32 kB)\n",
            "Collecting hyperframe<6,>=5.2.0 (from h2==3.*->httpcore==0.9.*->httpx==0.13.3->googletrans==3.1.0a0)\n",
            "  Using cached hyperframe-5.2.0-py2.py3-none-any.whl.metadata (7.2 kB)\n",
            "Collecting hpack<4,>=3.0 (from h2==3.*->httpcore==0.9.*->httpx==0.13.3->googletrans==3.1.0a0)\n",
            "  Using cached hpack-3.0.0-py2.py3-none-any.whl.metadata (7.0 kB)\n",
            "Using cached httpx-0.13.3-py3-none-any.whl (55 kB)\n",
            "Using cached chardet-3.0.4-py2.py3-none-any.whl (133 kB)\n",
            "Using cached httpcore-0.9.1-py3-none-any.whl (42 kB)\n",
            "Using cached idna-2.10-py2.py3-none-any.whl (58 kB)\n",
            "Using cached h2-3.2.0-py2.py3-none-any.whl (65 kB)\n",
            "Using cached rfc3986-1.5.0-py2.py3-none-any.whl (31 kB)\n",
            "Using cached hstspreload-2025.1.1-py3-none-any.whl (1.3 MB)\n",
            "Using cached h11-0.9.0-py2.py3-none-any.whl (53 kB)\n",
            "Using cached hpack-3.0.0-py2.py3-none-any.whl (38 kB)\n",
            "Using cached hyperframe-5.2.0-py2.py3-none-any.whl (12 kB)\n",
            "Installing collected packages: rfc3986, hyperframe, hpack, h11, chardet, idna, hstspreload, h2, httpcore, httpx, googletrans\n",
            "  Attempting uninstall: hyperframe\n",
            "    Found existing installation: hyperframe 6.1.0\n",
            "    Uninstalling hyperframe-6.1.0:\n",
            "      Successfully uninstalled hyperframe-6.1.0\n",
            "  Attempting uninstall: hpack\n",
            "    Found existing installation: hpack 4.1.0\n",
            "    Uninstalling hpack-4.1.0:\n",
            "      Successfully uninstalled hpack-4.1.0\n",
            "  Attempting uninstall: h11\n",
            "    Found existing installation: h11 0.14.0\n",
            "    Uninstalling h11-0.14.0:\n",
            "      Successfully uninstalled h11-0.14.0\n",
            "  Attempting uninstall: chardet\n",
            "    Found existing installation: chardet 5.2.0\n",
            "    Uninstalling chardet-5.2.0:\n",
            "      Successfully uninstalled chardet-5.2.0\n",
            "  Attempting uninstall: idna\n",
            "    Found existing installation: idna 3.10\n",
            "    Uninstalling idna-3.10:\n",
            "      Successfully uninstalled idna-3.10\n",
            "  Attempting uninstall: h2\n",
            "    Found existing installation: h2 4.2.0\n",
            "    Uninstalling h2-4.2.0:\n",
            "      Successfully uninstalled h2-4.2.0\n",
            "  Attempting uninstall: httpcore\n",
            "    Found existing installation: httpcore 1.0.7\n",
            "    Uninstalling httpcore-1.0.7:\n",
            "      Successfully uninstalled httpcore-1.0.7\n",
            "  Attempting uninstall: httpx\n",
            "    Found existing installation: httpx 0.28.1\n",
            "    Uninstalling httpx-0.28.1:\n",
            "      Successfully uninstalled httpx-0.28.1\n",
            "\u001b[31mERROR: pip's dependency resolver does not currently take into account all the packages that are installed. This behaviour is the source of the following dependency conflicts.\n",
            "langsmith 0.3.18 requires httpx<1,>=0.23.0, but you have httpx 0.13.3 which is incompatible.\n",
            "openai 1.68.2 requires httpx<1,>=0.23.0, but you have httpx 0.13.3 which is incompatible.\n",
            "google-genai 1.7.0 requires httpx<1.0.0,>=0.28.1, but you have httpx 0.13.3 which is incompatible.\u001b[0m\u001b[31m\n",
            "\u001b[0mSuccessfully installed chardet-3.0.4 googletrans-3.1.0a0 h11-0.9.0 h2-3.2.0 hpack-3.0.0 hstspreload-2025.1.1 httpcore-0.9.1 httpx-0.13.3 hyperframe-5.2.0 idna-2.10 rfc3986-1.5.0\n"
          ]
        },
        {
          "output_type": "display_data",
          "data": {
            "application/vnd.colab-display-data+json": {
              "pip_warning": {
                "packages": [
                  "chardet",
                  "httpx",
                  "idna"
                ]
              },
              "id": "97fc355182f040f391b5f8941292c6e3"
            }
          },
          "metadata": {}
        }
      ]
    },
    {
      "cell_type": "code",
      "execution_count": null,
      "metadata": {
        "id": "ZdS8KOXCXd41"
      },
      "outputs": [],
      "source": [
        "def fetch_news(company, max_articles=10):\n",
        "    \"\"\"Fetches news articles from Bing News for a given company.\"\"\"\n",
        "    url = f'https://www.bing.com/news/search?q={company}'\n",
        "    headers = {\n",
        "       'user-agent': 'Mozilla/5.0 (Windows NT 10.0; Win64; x64) AppleWebKit/537.36 (KHTML, like Gecko) Chrome/131.0.0.0 Safari/537.36',\n",
        "       'Accept-language': 'en-US, en; q=0.9',\n",
        "       'connection':'keep-alive',\n",
        "       'upgrade-insecure-requests': '1'\n",
        "        }\n",
        "\n",
        "    #fetching the big news page\n",
        "    doc = requests.get(url, headers=headers)\n",
        "\n",
        "    #parsing the html content\n",
        "    soup = BeautifulSoup(doc.text, 'html.parser')\n",
        "    articles = []\n",
        "\n",
        "    #finding articles and extracting title & summary\n",
        "    for item in soup.find_all('div', class_='newsitem', limit=max_articles):\n",
        "        title_tag = item.find('a', class_='title')\n",
        "        summary_tag = item.find('div', class_='snippet')\n",
        "\n",
        "        if title_tag and summary_tag:\n",
        "            articles.append({\n",
        "                'Title': title_tag.text.strip(),\n",
        "                'Summary': summary_tag.text.strip(),\n",
        "            })\n",
        "    return articles"
      ]
    },
    {
      "cell_type": "code",
      "execution_count": null,
      "metadata": {
        "id": "SogzIw9pY5mi"
      },
      "outputs": [],
      "source": [
        "\n",
        "def analyze_sentiment(articles):\n",
        "    for article in articles:\n",
        "        summary = article['Summary']\n",
        "        blob = TextBlob(summary)\n",
        "        polarity = blob.sentiment.polarity\n",
        "        if polarity > 0:\n",
        "            sentiment = 'positive'\n",
        "        elif polarity < 0:\n",
        "            sentiment = 'negative'\n",
        "        else:\n",
        "            sentiment = 'neutral'\n",
        "        article['Sentiment'] = sentiment\n",
        "    return articles"
      ]
    },
    {
      "cell_type": "markdown",
      "metadata": {
        "id": "QqTE_l5q0yfz"
      },
      "source": []
    },
    {
      "cell_type": "code",
      "execution_count": null,
      "metadata": {
        "colab": {
          "base_uri": "https://localhost:8080/",
          "height": 356,
          "referenced_widgets": [
            "83a6bcbdec8041c182c8db246c1dfd95",
            "3462aff4d50947f181dae36ae567abfc",
            "ccfcc4fc16594de5b956880cc7dac012",
            "fa105262aea04b80aa5a851ea296c50d",
            "5f2c3d5d07824a48aba9e0a27884d3f4",
            "f2681e9cee564c6596d7fa51dc9dcf45",
            "49d6f97f7372480596b15a8752633737",
            "1a9e3f79d00440d4ab63382d9a99eb41",
            "8980fa1e8a284e56a25e31d052ad4b2e",
            "6c1551c352ef4dc396862b49377ff337",
            "3355c5fe139b4544bb8b9a0ca43a17a0",
            "572e3fd6926b441c8d55a5a3ebcadf37",
            "9c05e6dc50604e6eafe928679b709d89",
            "a0f09e15fa854571909ad3a69f1dc3d4",
            "c24f7ca7161040f1a05562b2234bf4b4",
            "5e5e40ea415c4a1891d4c0930a67eabd",
            "e4fa929014474a97b453ebca0127467b",
            "77a51ea18f4b47c7a9fdad957f251868",
            "5c2ef32fcd7a47269cd41ce021b0a8c4",
            "2e3e7bcad58d48848ed9fb196445b9a7",
            "7e4cebbdaab44570a197490f3ead04f1",
            "dc2b665080884633820d9bc4caddf2ab",
            "911788e8814b40baa13b418de3e83578",
            "a6334a9baede489e97c8180970c3707b",
            "f7f5f4bee1d846c8a24f8e056e8a0ab6",
            "d284a0b8e82e497aa357b317c570d301",
            "7d57dea143e34b12a61c4e6781474d01",
            "47e2796248d54647afc6d116209eddca",
            "8121da2836744793a743a86ab212b42a",
            "25a96dd3ec1a4a50a600383ab3e18e4a",
            "e00d347f31454a4c9b1c8bead1a9a332",
            "4c2c0c32e7f24ce4a8f5a819731fa976",
            "e3fe7b414fd44dd4a5980bd41580fb66",
            "18d813f63bc349518e275f150aca9580",
            "977ce68feff1424ab221fe50fc9c6832",
            "eb14eb44b45c403191945bb790977a19",
            "61dce23559a7432088e99b74aa8f3322",
            "103fc2fab7d9426ebad6cf0cb9b4e60b",
            "26303491ff074357b69b27d9da7cd75a",
            "24ef48d18d9f4e34a980840b1d56310b",
            "36ad19b696a3416f80e0c80363bd43db",
            "44d5cd2c65ca49f0a57c015339d42712",
            "cfa59563db3e4654b9311d739ead13fe",
            "430301241d5343f59fbf522019583d26",
            "de38cadbfd6a4e589a7554a41fd3a158",
            "aa6a1b67821f4e108f4c7adbff76210b",
            "e3fbf15f46194dc98cc8e88ab337d3ef",
            "7bbf3bf071354e1b84c476dac456f897",
            "3182d33f812d435194ca375f7c583385",
            "dc86c269122543858c009b3f9a64df13",
            "2fe572a42e6841de9225ca2ef25c348f",
            "5978ad324b124e4db2e2daa1494a2743",
            "5004703438ef4e7bb0dc9c1be93e6b28",
            "941f8029052d49fdbe094affd7c4ee19",
            "dcf4f3aac91848cc849f4757ff0774b2",
            "dcab57f4676749ea841a2be41c095db7",
            "477a9c1452e0425e818db26ba7c4c658",
            "c4467e0fda564ceb812ee7b2344f76c8",
            "2a14d4689b5445d9b9d1546d3d1a1000",
            "a8f4ab153ff2453fb8422dd908ddd8b6",
            "e5ab678d1b0c4bfbaaebbb463020d8c5",
            "60ff8e5624384e04a13d9460b1625639",
            "2f379d69787f4d6d99132f2e254f389b",
            "828f13838b4b4358b7faac7bbde7f49b",
            "b7c6e62024694ae483343b4a187d4c84",
            "5990dafec6764357a2daf9cf0829e6fa"
          ]
        },
        "id": "FUZ5Eewq5aKg",
        "outputId": "005fd21c-93b9-438b-85dc-97c1da41fbe1"
      },
      "outputs": [
        {
          "output_type": "stream",
          "name": "stderr",
          "text": [
            "/usr/local/lib/python3.11/dist-packages/huggingface_hub/utils/_auth.py:94: UserWarning: \n",
            "The secret `HF_TOKEN` does not exist in your Colab secrets.\n",
            "To authenticate with the Hugging Face Hub, create a token in your settings tab (https://huggingface.co/settings/tokens), set it as secret in your Google Colab and restart your session.\n",
            "You will be able to reuse this secret in all of your notebooks.\n",
            "Please note that authentication is recommended but still optional to access public models or datasets.\n",
            "  warnings.warn(\n"
          ]
        },
        {
          "output_type": "display_data",
          "data": {
            "text/plain": [
              "config.json:   0%|          | 0.00/1.15k [00:00<?, ?B/s]"
            ],
            "application/vnd.jupyter.widget-view+json": {
              "version_major": 2,
              "version_minor": 0,
              "model_id": "83a6bcbdec8041c182c8db246c1dfd95"
            }
          },
          "metadata": {}
        },
        {
          "output_type": "display_data",
          "data": {
            "text/plain": [
              "model.safetensors:   0%|          | 0.00/1.63G [00:00<?, ?B/s]"
            ],
            "application/vnd.jupyter.widget-view+json": {
              "version_major": 2,
              "version_minor": 0,
              "model_id": "572e3fd6926b441c8d55a5a3ebcadf37"
            }
          },
          "metadata": {}
        },
        {
          "output_type": "display_data",
          "data": {
            "text/plain": [
              "tokenizer_config.json:   0%|          | 0.00/26.0 [00:00<?, ?B/s]"
            ],
            "application/vnd.jupyter.widget-view+json": {
              "version_major": 2,
              "version_minor": 0,
              "model_id": "911788e8814b40baa13b418de3e83578"
            }
          },
          "metadata": {}
        },
        {
          "output_type": "display_data",
          "data": {
            "text/plain": [
              "vocab.json:   0%|          | 0.00/899k [00:00<?, ?B/s]"
            ],
            "application/vnd.jupyter.widget-view+json": {
              "version_major": 2,
              "version_minor": 0,
              "model_id": "18d813f63bc349518e275f150aca9580"
            }
          },
          "metadata": {}
        },
        {
          "output_type": "display_data",
          "data": {
            "text/plain": [
              "merges.txt:   0%|          | 0.00/456k [00:00<?, ?B/s]"
            ],
            "application/vnd.jupyter.widget-view+json": {
              "version_major": 2,
              "version_minor": 0,
              "model_id": "de38cadbfd6a4e589a7554a41fd3a158"
            }
          },
          "metadata": {}
        },
        {
          "output_type": "display_data",
          "data": {
            "text/plain": [
              "tokenizer.json:   0%|          | 0.00/1.36M [00:00<?, ?B/s]"
            ],
            "application/vnd.jupyter.widget-view+json": {
              "version_major": 2,
              "version_minor": 0,
              "model_id": "dcab57f4676749ea841a2be41c095db7"
            }
          },
          "metadata": {}
        },
        {
          "output_type": "stream",
          "name": "stderr",
          "text": [
            "Device set to use cuda:0\n"
          ]
        }
      ],
      "source": [
        "# Load the Zero-Shot classification model\n",
        "classifier = pipeline(\"zero-shot-classification\", model=\"facebook/bart-large-mnli\")\n",
        "\n",
        "def classify_topics(articles):\n",
        "    \"\"\"Uses zero-shot classification to assign topics to news articles.\"\"\"\n",
        "    candidate_labels = [\n",
        "        \"Technology\", \"Electric Vehicles\", \"Stock Market\", \"Finance\", \"Innovation\",\n",
        "        \"Regulation\", \"Economy\", \"Artificial Intelligence\", \"Climate Change\", \"Energy\",\n",
        "        \"Consulting\", \"Business Strategy\", \"Consumer Behavior\", \"Leadership\", \"Cryptocurrency\",\n",
        "        \"Healthcare\", \"Cybersecurity\", \"Retail\", \"Manufacturing\", \"Supply Chain\"\n",
        "    ]\n",
        "\n",
        "    for article in articles:\n",
        "        summary = article['Summary']\n",
        "        result = classifier(summary, candidate_labels, multi_label=True)\n",
        "        article['Topics'] = result[\"labels\"][:3]\n",
        "\n",
        "    return articles\n"
      ]
    },
    {
      "cell_type": "code",
      "execution_count": null,
      "metadata": {
        "id": "bp87AfV9GtZY"
      },
      "outputs": [],
      "source": [
        "def compute_sentiment_distribution(articles):\n",
        "    \"\"\"Counts the number of articles in each sentiment category.\"\"\"\n",
        "    sentiment_counts = {\"Positive\": 0, \"Negative\": 0, \"Neutral\": 0}\n",
        "\n",
        "    for article in articles:\n",
        "        sentiment = article[\"Sentiment\"].capitalize()\n",
        "        if sentiment in sentiment_counts:\n",
        "            sentiment_counts[sentiment] += 1\n",
        "\n",
        "    return sentiment_counts\n"
      ]
    },
    {
      "cell_type": "code",
      "source": [
        "# Initialize KeyBERT model for keyword extraction\n",
        "kw_model = KeyBERT()\n",
        "\n",
        "def extract_keywords(text, top_n=3):\n",
        "    \"\"\"Extracts key phrases from the given text.\"\"\"\n",
        "    keywords = kw_model.extract_keywords(text, keyphrase_ngram_range=(1, 2), stop_words='english')\n",
        "    return ', '.join([kw[0] for kw in keywords[:top_n]])\n",
        "\n",
        "def compare_coverage(articles):\n",
        "    \"\"\"Generates a comparative analysis of news articles with concise comparisons.\"\"\"\n",
        "    comparisons = []\n",
        "    topics_set = [set(article['Topics']) for article in articles]\n",
        "\n",
        "    for i in range(len(articles) - 1):  # Iterate sequentially across all articles\n",
        "        article1, article2 = articles[i], articles[i + 1]\n",
        "\n",
        "        # Extract concise title keywords\n",
        "        title1_keywords = extract_keywords(article1['Title'])\n",
        "        title2_keywords = extract_keywords(article2['Title'])\n",
        "\n",
        "        # Identify the main difference in focus\n",
        "        comparison = {\n",
        "            \"Comparison\": f\"Article {i+1} highlights {title1_keywords}, while Article {i+2} discusses {title2_keywords}.\",\n",
        "            \"Impact\": f\"The first article highlights {article1['Sentiment']} sentiment, whereas the second is {article2['Sentiment']}.\"\n",
        "        }\n",
        "\n",
        "        # Topic Overlap Analysis\n",
        "        common_topics = topics_set[i] & topics_set[i + 1]\n",
        "        unique_1 = topics_set[i] - topics_set[i + 1]\n",
        "        unique_2 = topics_set[i + 1] - topics_set[i]\n",
        "\n",
        "        comparison[\"Topic Overlap\"] = {\n",
        "            \"Common Topics\": list(common_topics),\n",
        "            \"Unique to Article 1\": list(unique_1),\n",
        "            \"Unique to Article 2\": list(unique_2)\n",
        "        }\n",
        "\n",
        "        comparisons.append(comparison)\n",
        "\n",
        "    return comparisons"
      ],
      "metadata": {
        "colab": {
          "base_uri": "https://localhost:8080/",
          "height": 369,
          "referenced_widgets": [
            "c118b18060094d10b43094b9992f9b6b",
            "04700685d9524ee7a94896d7ffa76e39",
            "6427c6234d1240a29942e252d1d38e2a",
            "fdc8f9451c67405eba30b060ec9e0894",
            "2d2cfe8e49764b9f83feb0eddf8ff6a3",
            "746f902fc576481f8f8e628141c41317",
            "9e97ad59461643e68857502fa5c88ce5",
            "d383b8da2f6d4aceac15eaad8fc63368",
            "3d5a09cbb9b743b0984f4c2280addd3b",
            "b92c22d183124906896c9c99d85cc300",
            "035db4cf0eaa438eab2dcc29150e2bf1",
            "7ff749a52f8e4ddf85195aac7e5d4b2f",
            "cca6fd7150fd4880a563f677ff82ee64",
            "d9c9cebabc39410282c570547cf25f24",
            "15d9f3511e2a4b02a9623129776cda49",
            "d081ae2ae4444e10867869ac641eae6f",
            "284cf170da284040adad25af1b298bc0",
            "ab6654a441994c7aa7e1ce877bc34b16",
            "9563574615694c8393cda688a7a28097",
            "937ec6dda12240bc81b8a4fe5e0e509e",
            "4db6898adf5c435798341fa409ff8ecc",
            "516f1641f1e047d084c8c5578c60d0d3",
            "4521d43abbea4731a70a1d6e86f8e422",
            "29169dd3411e467a87730d33e253a77a",
            "01ce9ba2aeea4bf3afca2474408d3d9a",
            "8280e3d72d7b464c8a477242e853c3aa",
            "92251ef2cf4e49289bc6376c42809278",
            "60638ca6e54f4e679334be546e2d60eb",
            "ed9048dec75e4a359bcf95ce652f10dc",
            "e3e940c5de3847489bc0d9f4fa93da4c",
            "05a4b30fd2cf430589aadda07b422d84",
            "546b59f89e934116bf902e1ccc3fb14a",
            "fa266db792654cfc980f695dbb9b4d2f",
            "dfeed2d1103e4a518fb7fdbbe99fa9b5",
            "6bad189b42664d61b3c118fa71a77390",
            "c8c1edf0adcc4956ab3c20b794296dd4",
            "85a393f0145645c0a2575d151bb50456",
            "ad44a0ca06b64606b0337ed0e4f2b1ee",
            "e5fa392be73a4d239a2ee79a0f34d5cb",
            "4b681645ac974107b5368d41e9016bc9",
            "3169d7470c49444298a86b7e64279c17",
            "57a80a38d84f46fd8467c48fe18c590e",
            "0f45238391cf4e2f9e194d08aa1c8495",
            "4b76ccb528f94523a62bb6e2f9b34399",
            "20477f6550044e0aa0be3c8415968fe5",
            "6e27b76e6fef483a8e2c0be2f09b383a",
            "8dfcc342d42a4e31bcbe25f1a41384fa",
            "e607836149064ad2906b803985a26a13",
            "88806010f8b041de9ec752e2d337ee2a",
            "46cb1ed311aa4f00a28b7fc9d9703a3f",
            "a837b3fa275240739be810d4643bbf1d",
            "22406eba63594290b414798f33dcb76a",
            "81e6f7d59f0147b7b33b7b4a407e9787",
            "1f1c4e568a214d53a3ed71cee094ef0a",
            "3735c4af90cf4dfd8ac30f77092dd7a9",
            "c5b2623caf2c4f2aa910548e3e0a7c09",
            "a7dcd084badb417189c0d04ba69d5577",
            "7a5e7e811c3d4dbf8645bb0792fb49a9",
            "859ed51c0671424691b70d27105fd5a3",
            "f4a21ce32fb44f02a933a772e36cc0ac",
            "1083da5a598345e6a8820680bebb6794",
            "b32b428a0db04c0780036eb93008a455",
            "78ea44cdcd9a4592a8bf704dfbae777c",
            "63163fa1bed54cc3b47a319c6d41c04d",
            "3d173d9b0b1c4094bade20a37e0a2b59",
            "5b9d22e773b7459eb75ce3399460665a",
            "765d991f1f7248a8967a0fcd1847f973",
            "64a433b5a35d413488d653d3ef3f8ee6",
            "27e660303e1b4625ba882af339df3dfb",
            "ee28125b3dfa437a9c5d06f817c32862",
            "c2dfe741c1b14de7a4a08a268a1f8e9c",
            "dee944aafe02487cbe3d8bc91d6edf63",
            "5375afca243d4d3092b0a90b1aee1df3",
            "8ce2fcb3f6284db3a516f658db35abe7",
            "c3bc62e2229d4c6684220722f4fa4066",
            "69f580552f2a48e9b01d7f2649646e53",
            "d71380286cdd4e58b1552d74b1cddf50",
            "04784167e68d4efb92e13ed0a9ce768a",
            "327c714293384f0b871462ac666b918c",
            "ac03db0bc3544257b645b94bd505d25c",
            "8948976b537f4e1f9e2a0d49d706d0d6",
            "9e7e7508eedb4f0a846a999624a4f655",
            "49e30311c855485bb610c534eba72df0",
            "b67121fa4de3454a93ef72d0c95b11e9",
            "4e029da4bebc4671b708ac805b06a747",
            "a9026d28a5084affa2ab5e150cc45829",
            "fb1286a0a781477897d30e96be5469e1",
            "2569c4409e3f44fd829a15019464bad5",
            "d11e2ed4d5de4613a6abfa05ed29587f",
            "e6257a4a10bc4e758c5f8beb0037ccda",
            "efe98420007a41a49f7d67ad9151deb1",
            "f452f1ed6d2c49a09413e92bc727f98a",
            "dbc41e9b2898481faaa490c39054901c",
            "2175159ac1474571a569565397571b8e",
            "f3794e82ab484e7eba5113d20f897cab",
            "339f72cdf7544fdda8d87f75bfa628f9",
            "6030395e858542458eee0d3fc4838ea6",
            "e515f9479dbc4deba11a5cdcbe96ffd8",
            "6f0c8cfebff34b39961000960f695fd4",
            "58be8a7f2ac4406e8afd2f63e7f771bc",
            "1e3e47ac2dea494a9d3d3b5b3376ff91",
            "7c6dab9f36d24e86b2c9e7ec59579626",
            "a394c1afb6ec49ecb44b68d896935feb",
            "74c058ffd5eb49f094fb84e3e8dd88a2",
            "27106c3d05bc477484522429dedf5cb8",
            "6d219201a9c14ff8a4c1cc9f109c1fc4",
            "deffb90e830442649ed488a8f5654db1",
            "8e1603ee40e8453a8dcb659d2ce2f416",
            "809beb84a7a547b3bc8f27a85a527211",
            "b0944deba98c4f3b9a8aedc65d0d09ba",
            "d9a386cbebe24f9887ed74cdd8bf23f1",
            "e1425161151641199f0fadc61fcc4646",
            "e600d46091614e9fbad6e82494038219",
            "3de2cda0dae1407dad3ddf918c757ca9",
            "0efd6a3122e4445ab4493d649fa68920",
            "b7f986d37c224494aca98e0b6dc511bd",
            "6af8ee748eb84aca8c0c5ebfffb8180f",
            "7161ffb660da4499a031c8a39d4aab0e",
            "d5629f3e0f6e4398b801fad0ad702716",
            "8651837b574146d3bec5d774355fc8b0",
            "7d20f27266cc4b6a8a27808e5e15abf5"
          ]
        },
        "id": "eewDCUeR2Ged",
        "outputId": "c3a3cfc3-26fa-4271-b924-399d6289aad9"
      },
      "execution_count": null,
      "outputs": [
        {
          "output_type": "display_data",
          "data": {
            "text/plain": [
              "modules.json:   0%|          | 0.00/349 [00:00<?, ?B/s]"
            ],
            "application/vnd.jupyter.widget-view+json": {
              "version_major": 2,
              "version_minor": 0,
              "model_id": "c118b18060094d10b43094b9992f9b6b"
            }
          },
          "metadata": {}
        },
        {
          "output_type": "display_data",
          "data": {
            "text/plain": [
              "config_sentence_transformers.json:   0%|          | 0.00/116 [00:00<?, ?B/s]"
            ],
            "application/vnd.jupyter.widget-view+json": {
              "version_major": 2,
              "version_minor": 0,
              "model_id": "7ff749a52f8e4ddf85195aac7e5d4b2f"
            }
          },
          "metadata": {}
        },
        {
          "output_type": "display_data",
          "data": {
            "text/plain": [
              "README.md:   0%|          | 0.00/10.5k [00:00<?, ?B/s]"
            ],
            "application/vnd.jupyter.widget-view+json": {
              "version_major": 2,
              "version_minor": 0,
              "model_id": "4521d43abbea4731a70a1d6e86f8e422"
            }
          },
          "metadata": {}
        },
        {
          "output_type": "display_data",
          "data": {
            "text/plain": [
              "sentence_bert_config.json:   0%|          | 0.00/53.0 [00:00<?, ?B/s]"
            ],
            "application/vnd.jupyter.widget-view+json": {
              "version_major": 2,
              "version_minor": 0,
              "model_id": "dfeed2d1103e4a518fb7fdbbe99fa9b5"
            }
          },
          "metadata": {}
        },
        {
          "output_type": "display_data",
          "data": {
            "text/plain": [
              "config.json:   0%|          | 0.00/612 [00:00<?, ?B/s]"
            ],
            "application/vnd.jupyter.widget-view+json": {
              "version_major": 2,
              "version_minor": 0,
              "model_id": "20477f6550044e0aa0be3c8415968fe5"
            }
          },
          "metadata": {}
        },
        {
          "output_type": "display_data",
          "data": {
            "text/plain": [
              "model.safetensors:   0%|          | 0.00/90.9M [00:00<?, ?B/s]"
            ],
            "application/vnd.jupyter.widget-view+json": {
              "version_major": 2,
              "version_minor": 0,
              "model_id": "c5b2623caf2c4f2aa910548e3e0a7c09"
            }
          },
          "metadata": {}
        },
        {
          "output_type": "display_data",
          "data": {
            "text/plain": [
              "tokenizer_config.json:   0%|          | 0.00/350 [00:00<?, ?B/s]"
            ],
            "application/vnd.jupyter.widget-view+json": {
              "version_major": 2,
              "version_minor": 0,
              "model_id": "765d991f1f7248a8967a0fcd1847f973"
            }
          },
          "metadata": {}
        },
        {
          "output_type": "display_data",
          "data": {
            "text/plain": [
              "vocab.txt:   0%|          | 0.00/232k [00:00<?, ?B/s]"
            ],
            "application/vnd.jupyter.widget-view+json": {
              "version_major": 2,
              "version_minor": 0,
              "model_id": "04784167e68d4efb92e13ed0a9ce768a"
            }
          },
          "metadata": {}
        },
        {
          "output_type": "display_data",
          "data": {
            "text/plain": [
              "tokenizer.json:   0%|          | 0.00/466k [00:00<?, ?B/s]"
            ],
            "application/vnd.jupyter.widget-view+json": {
              "version_major": 2,
              "version_minor": 0,
              "model_id": "d11e2ed4d5de4613a6abfa05ed29587f"
            }
          },
          "metadata": {}
        },
        {
          "output_type": "display_data",
          "data": {
            "text/plain": [
              "special_tokens_map.json:   0%|          | 0.00/112 [00:00<?, ?B/s]"
            ],
            "application/vnd.jupyter.widget-view+json": {
              "version_major": 2,
              "version_minor": 0,
              "model_id": "58be8a7f2ac4406e8afd2f63e7f771bc"
            }
          },
          "metadata": {}
        },
        {
          "output_type": "display_data",
          "data": {
            "text/plain": [
              "config.json:   0%|          | 0.00/190 [00:00<?, ?B/s]"
            ],
            "application/vnd.jupyter.widget-view+json": {
              "version_major": 2,
              "version_minor": 0,
              "model_id": "d9a386cbebe24f9887ed74cdd8bf23f1"
            }
          },
          "metadata": {}
        }
      ]
    },
    {
      "cell_type": "code",
      "source": [
        "def calculate_final_sentiment(sentiment_distribution):\n",
        "    \"\"\"Determines the overall sentiment based on sentiment distribution.\"\"\"\n",
        "    max_sentiment = max(sentiment_distribution, key=sentiment_distribution.get)\n",
        "\n",
        "    if sentiment_distribution[max_sentiment] == 0:\n",
        "        return \"The overall sentiment is neutral, with no strong positive or negative influence.\"\n",
        "    elif max_sentiment == \"Positive\":\n",
        "        return \"The latest news coverage is mostly positive. Potential stock growth expected.\"\n",
        "    elif max_sentiment == \"Negative\":\n",
        "        return \"The overall sentiment is negative. Caution is advised due to potential risks.\"\n",
        "    else:\n",
        "        return \"The sentiment is balanced, with both positive and negative aspects equally present.\"\n"
      ],
      "metadata": {
        "id": "wVbv-G7W4niT"
      },
      "execution_count": null,
      "outputs": []
    },
    {
      "cell_type": "code",
      "source": [
        "def translate_final_sentiment_to_hindi(final_sentiment_analysis):\n",
        "  \"\"\"Translates the final sentiment analysis to Hindi.\"\"\"\n",
        "  translator = Translator()\n",
        "  try:\n",
        "    translated_text = translator.translate(final_sentiment_analysis, dest='hi').text\n",
        "    return translated_text\n",
        "  except Exception as e:\n",
        "    print(f\"Error during translation: {e}\")\n",
        "    return \"Translation failed.\"\n",
        "\n",
        "def text_to_speech(text, language='en'):\n",
        "  \"\"\"Converts text to speech using gTTS.\"\"\"\n",
        "  tts = gTTS(text=text, lang=language) # Corrected indentation\n",
        "  tts.save(\"news_audio.mp3\")\n",
        "  return \"news_audio.mp3\""
      ],
      "metadata": {
        "id": "j3CfHI1FFUZb"
      },
      "execution_count": null,
      "outputs": []
    },
    {
      "cell_type": "code",
      "source": [
        "\n",
        "def generate_output(company, max_articles=10):\n",
        "    \"\"\"Fetches news, analyzes sentiment, classifies topics, and structures the final JSON output with comparative coverage.\"\"\"\n",
        "    articles = fetch_news(company, max_articles)\n",
        "    articles = analyze_sentiment(articles)\n",
        "    articles = classify_topics(articles)\n",
        "    sentiment_distribution = compute_sentiment_distribution(articles)\n",
        "    coverage_differences = compare_coverage(articles)\n",
        "    final_sentiment = calculate_final_sentiment(sentiment_distribution)\n",
        "    translated_sentiment = translate_final_sentiment_to_hindi(final_sentiment)\n",
        "\n",
        "    text_to_speech(translated_sentiment, language='hi')\n",
        "\n",
        "    output = {\n",
        "        \"Company\": company,\n",
        "        \"Articles\": articles,\n",
        "        \"Comparative Sentiment Score\": {\n",
        "            \"Sentiment Distribution\": sentiment_distribution,\n",
        "            \"Coverage Differences\": coverage_differences\n",
        "        },\n",
        "        \"Final Sentiment Analysis\": final_sentiment,\n",
        "        \"Audio\": \"[Play Hindi Speech]\"\n",
        "    }\n",
        "\n",
        "    return(json.dumps(output, indent=4))"
      ],
      "metadata": {
        "id": "t1rdKViGJ21C"
      },
      "execution_count": null,
      "outputs": []
    },
    {
      "cell_type": "code",
      "source": [
        "# Take user input\n",
        "if __name__ == \"__main__\":\n",
        "    company_name = input(\"Enter the company name: \")\n",
        "    print(generate_output(company_name))\n",
        "    display(Audio(\"news_audio.mp3\", autoplay=False))"
      ],
      "metadata": {
        "colab": {
          "base_uri": "https://localhost:8080/",
          "height": 1000
        },
        "id": "vkfO2EMSDzWU",
        "outputId": "95bdb5f2-7f69-4223-e80f-656e42975844"
      },
      "execution_count": null,
      "outputs": [
        {
          "output_type": "stream",
          "name": "stdout",
          "text": [
            "Enter the company name: tesla\n",
            "{\n",
            "    \"Company\": \"tesla\",\n",
            "    \"Articles\": [\n",
            "        {\n",
            "            \"Title\": \"A misinformation expert encouraged picket lines at Tesla sites to protest DOGE cuts. Then came the online threats\",\n",
            "            \"Summary\": \"X users have amplified criticism of Joan Donovan and others for encouraging or taking part in nonviolent protests at Tesla ...\",\n",
            "            \"Sentiment\": \"positive\",\n",
            "            \"Topics\": [\n",
            "                \"Electric Vehicles\",\n",
            "                \"Technology\",\n",
            "                \"Consumer Behavior\"\n",
            "            ]\n",
            "        },\n",
            "        {\n",
            "            \"Title\": \"Huh, Tesla Owners Are Trading In Their Cars at Record Numbers for Some Mysterious Reason\",\n",
            "            \"Summary\": \"Now, for good measure, Reuters reports that Tesla trade-ins are nearing record highs, as the company\\u2019s models from 2017 ...\",\n",
            "            \"Sentiment\": \"positive\",\n",
            "            \"Topics\": [\n",
            "                \"Electric Vehicles\",\n",
            "                \"Technology\",\n",
            "                \"Consumer Behavior\"\n",
            "            ]\n",
            "        },\n",
            "        {\n",
            "            \"Title\": \"Tesla owner seeks $1 million in damages after car keyed at DFW airport; suspect arrested\",\n",
            "            \"Summary\": \"In the lawsuit, the Tesla owner is identified by his initials only due to fear of threats. The car's onboard camera captured ...\",\n",
            "            \"Sentiment\": \"negative\",\n",
            "            \"Topics\": [\n",
            "                \"Electric Vehicles\",\n",
            "                \"Technology\",\n",
            "                \"Cybersecurity\"\n",
            "            ]\n",
            "        },\n",
            "        {\n",
            "            \"Title\": \"Disabled Woman Who Had Tesla Vandalized Speaks Out\",\n",
            "            \"Summary\": \"\\\"Damaging a personal vehicle does not affect Elon,\\\" the woman said, adding, \\\"It's not damaging who you think it is.\\\" ...\",\n",
            "            \"Sentiment\": \"neutral\",\n",
            "            \"Topics\": [\n",
            "                \"Leadership\",\n",
            "                \"Consumer Behavior\",\n",
            "                \"Technology\"\n",
            "            ]\n",
            "        },\n",
            "        {\n",
            "            \"Title\": \"Trump announced new auto tariffs after a rough day in the market for Tesla\",\n",
            "            \"Summary\": \"Shares of mega-cap tech leaders tumbled Wednesday afternoon after a surprise announcement of auto tariffs from the White ...\",\n",
            "            \"Sentiment\": \"neutral\",\n",
            "            \"Topics\": [\n",
            "                \"Technology\",\n",
            "                \"Stock Market\",\n",
            "                \"Leadership\"\n",
            "            ]\n",
            "        },\n",
            "        {\n",
            "            \"Title\": \"Tesla is suing to open dealerships in Wisconsin. It's become a big deal in the Supreme Court race\",\n",
            "            \"Summary\": \"Tesla CEO Elon Musk and political groups he backs are pouring millions of dollars into the race for a seat on the Wisconsin ...\",\n",
            "            \"Sentiment\": \"neutral\",\n",
            "            \"Topics\": [\n",
            "                \"Technology\",\n",
            "                \"Electric Vehicles\",\n",
            "                \"Leadership\"\n",
            "            ]\n",
            "        },\n",
            "        {\n",
            "            \"Title\": \"Colorado Tesla crash, fire highlights unique dangers posed by electric vehicle fires\",\n",
            "            \"Summary\": \"The Tesla went up in flames after the driver ran a red light at around 100 mph, meaning fire crews had to be cautious in ...\",\n",
            "            \"Sentiment\": \"positive\",\n",
            "            \"Topics\": [\n",
            "                \"Electric Vehicles\",\n",
            "                \"Technology\",\n",
            "                \"Consumer Behavior\"\n",
            "            ]\n",
            "        },\n",
            "        {\n",
            "            \"Title\": \"Tesla drivers in Seattle join wave of trade-ins amid Musk backlash \\u2014 but some are holding on\",\n",
            "            \"Summary\": \"Carter Rabasa poses last week with his new Rivian R1S electric SUV in Seattle which he picked up after trading in a 2020 ...\",\n",
            "            \"Sentiment\": \"positive\",\n",
            "            \"Topics\": [\n",
            "                \"Electric Vehicles\",\n",
            "                \"Technology\",\n",
            "                \"Innovation\"\n",
            "            ]\n",
            "        }\n",
            "    ],\n",
            "    \"Comparative Sentiment Score\": {\n",
            "        \"Sentiment Distribution\": {\n",
            "            \"Positive\": 4,\n",
            "            \"Negative\": 1,\n",
            "            \"Neutral\": 3\n",
            "        },\n",
            "        \"Coverage Differences\": [\n",
            "            {\n",
            "                \"Comparison\": \"Article 1 highlights online threats, protest doge, threats, while Article 2 discusses tesla owners, huh tesla, cars record.\",\n",
            "                \"Impact\": \"The first article highlights positive sentiment, whereas the second is positive.\",\n",
            "                \"Topic Overlap\": {\n",
            "                    \"Common Topics\": [\n",
            "                        \"Consumer Behavior\",\n",
            "                        \"Electric Vehicles\",\n",
            "                        \"Technology\"\n",
            "                    ],\n",
            "                    \"Unique to Article 1\": [],\n",
            "                    \"Unique to Article 2\": []\n",
            "                }\n",
            "            },\n",
            "            {\n",
            "                \"Comparison\": \"Article 2 highlights tesla owners, huh tesla, cars record, while Article 3 discusses car keyed, tesla owner, damages car.\",\n",
            "                \"Impact\": \"The first article highlights positive sentiment, whereas the second is negative.\",\n",
            "                \"Topic Overlap\": {\n",
            "                    \"Common Topics\": [\n",
            "                        \"Electric Vehicles\",\n",
            "                        \"Technology\"\n",
            "                    ],\n",
            "                    \"Unique to Article 1\": [\n",
            "                        \"Consumer Behavior\"\n",
            "                    ],\n",
            "                    \"Unique to Article 2\": [\n",
            "                        \"Cybersecurity\"\n",
            "                    ]\n",
            "                }\n",
            "            },\n",
            "            {\n",
            "                \"Comparison\": \"Article 3 highlights car keyed, tesla owner, damages car, while Article 4 discusses woman tesla, disabled woman, tesla vandalized.\",\n",
            "                \"Impact\": \"The first article highlights negative sentiment, whereas the second is neutral.\",\n",
            "                \"Topic Overlap\": {\n",
            "                    \"Common Topics\": [\n",
            "                        \"Technology\"\n",
            "                    ],\n",
            "                    \"Unique to Article 1\": [\n",
            "                        \"Electric Vehicles\",\n",
            "                        \"Cybersecurity\"\n",
            "                    ],\n",
            "                    \"Unique to Article 2\": [\n",
            "                        \"Leadership\",\n",
            "                        \"Consumer Behavior\"\n",
            "                    ]\n",
            "                }\n",
            "            },\n",
            "            {\n",
            "                \"Comparison\": \"Article 4 highlights woman tesla, disabled woman, tesla vandalized, while Article 5 discusses auto tariffs, market tesla, tariffs.\",\n",
            "                \"Impact\": \"The first article highlights neutral sentiment, whereas the second is neutral.\",\n",
            "                \"Topic Overlap\": {\n",
            "                    \"Common Topics\": [\n",
            "                        \"Leadership\",\n",
            "                        \"Technology\"\n",
            "                    ],\n",
            "                    \"Unique to Article 1\": [\n",
            "                        \"Consumer Behavior\"\n",
            "                    ],\n",
            "                    \"Unique to Article 2\": [\n",
            "                        \"Stock Market\"\n",
            "                    ]\n",
            "                }\n",
            "            },\n",
            "            {\n",
            "                \"Comparison\": \"Article 5 highlights auto tariffs, market tesla, tariffs, while Article 6 discusses tesla suing, supreme court, dealerships wisconsin.\",\n",
            "                \"Impact\": \"The first article highlights neutral sentiment, whereas the second is neutral.\",\n",
            "                \"Topic Overlap\": {\n",
            "                    \"Common Topics\": [\n",
            "                        \"Leadership\",\n",
            "                        \"Technology\"\n",
            "                    ],\n",
            "                    \"Unique to Article 1\": [\n",
            "                        \"Stock Market\"\n",
            "                    ],\n",
            "                    \"Unique to Article 2\": [\n",
            "                        \"Electric Vehicles\"\n",
            "                    ]\n",
            "                }\n",
            "            },\n",
            "            {\n",
            "                \"Comparison\": \"Article 6 highlights tesla suing, supreme court, dealerships wisconsin, while Article 7 discusses tesla crash, vehicle fires, colorado tesla.\",\n",
            "                \"Impact\": \"The first article highlights neutral sentiment, whereas the second is positive.\",\n",
            "                \"Topic Overlap\": {\n",
            "                    \"Common Topics\": [\n",
            "                        \"Electric Vehicles\",\n",
            "                        \"Technology\"\n",
            "                    ],\n",
            "                    \"Unique to Article 1\": [\n",
            "                        \"Leadership\"\n",
            "                    ],\n",
            "                    \"Unique to Article 2\": [\n",
            "                        \"Consumer Behavior\"\n",
            "                    ]\n",
            "                }\n",
            "            },\n",
            "            {\n",
            "                \"Comparison\": \"Article 7 highlights tesla crash, vehicle fires, colorado tesla, while Article 8 discusses tesla drivers, drivers seattle, tesla.\",\n",
            "                \"Impact\": \"The first article highlights positive sentiment, whereas the second is positive.\",\n",
            "                \"Topic Overlap\": {\n",
            "                    \"Common Topics\": [\n",
            "                        \"Electric Vehicles\",\n",
            "                        \"Technology\"\n",
            "                    ],\n",
            "                    \"Unique to Article 1\": [\n",
            "                        \"Consumer Behavior\"\n",
            "                    ],\n",
            "                    \"Unique to Article 2\": [\n",
            "                        \"Innovation\"\n",
            "                    ]\n",
            "                }\n",
            "            }\n",
            "        ]\n",
            "    },\n",
            "    \"Final Sentiment Analysis\": \"The latest news coverage is mostly positive. Potential stock growth expected.\",\n",
            "    \"Audio\": \"[Play Hindi Speech]\"\n",
            "}\n"
          ]
        },
        {
          "output_type": "display_data",
          "data": {
            "text/plain": [
              "<IPython.lib.display.Audio object>"
            ],
            "text/html": [
              "\n",
              "                <audio  controls=\"controls\" >\n",
              "                    <source src=\"data:audio/mpeg;base64,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\" type=\"audio/mpeg\" />\n",
              "                    Your browser does not support the audio element.\n",
              "                </audio>\n",
              "              "
            ]
          },
          "metadata": {}
        }
      ]
    },
    {
      "cell_type": "code",
      "source": [],
      "metadata": {
        "id": "oBQ5HY3zEOSX"
      },
      "execution_count": null,
      "outputs": []
    }
  ],
  "metadata": {
    "accelerator": "GPU",
    "colab": {
      "gpuType": "T4",
      "provenance": []
    },
    "kernelspec": {
      "display_name": "Python 3",
      "name": "python3"
    },
    "language_info": {
      "name": "python"
    }
  },
  "nbformat": 4,
  "nbformat_minor": 0
}